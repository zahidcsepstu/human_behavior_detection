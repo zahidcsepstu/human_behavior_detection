{
  "cells": [
    {
      "cell_type": "markdown",
      "metadata": {
        "id": "view-in-github",
        "colab_type": "text"
      },
      "source": [
        "<a href=\"https://colab.research.google.com/github/zahidcsepstu/human_behavior_detection/blob/main/human_abnormal_behaviour_detection.ipynb\" target=\"_parent\"><img src=\"https://colab.research.google.com/assets/colab-badge.svg\" alt=\"Open In Colab\"/></a>"
      ]
    },
    {
      "cell_type": "code",
      "execution_count": null,
      "metadata": {
        "id": "Ct9Nf-VqZtFp"
      },
      "outputs": [],
      "source": [
        "import os\n",
        "\n",
        "ROOT_DIR = '/content/drive/MyDrive/MS_THESIS'\n",
        "\n",
        "VIDEO_DATA = ROOT_DIR + '/video_data'\n",
        "IMAGE_DATA = ROOT_DIR + '/generated_data/image_data'\n",
        "PREDICT_DATA = ROOT_DIR + '/generated_data/predict_data'\n",
        "PROCESSED_DATA = ROOT_DIR + '/generated_data/processed_data'\n",
        "TRAIN_DATA = PROCESSED_DATA + '/train'\n",
        "TEST_DATA = PROCESSED_DATA + '/test'\n",
        "DATASET_CSV = ROOT_DIR + '/dataset.csv'\n",
        "MODEL_DIR = ROOT_DIR + '/generated_data/model_data/'\n",
        "\n",
        "TEST_RATIO = 0.20\n",
        "\n",
        "MODEL_PATH = ROOT_DIR + '/generated_data/human_behaviour_detection.h5'"
      ]
    },
    {
      "cell_type": "code",
      "execution_count": null,
      "metadata": {
        "id": "Fw1Ze1LhIXNo"
      },
      "outputs": [],
      "source": [
        "import pandas as pd\n",
        "\n",
        "df = pd.read_csv(DATASET_CSV)\n",
        "# print(df.to_string())"
      ]
    },
    {
      "cell_type": "code",
      "execution_count": null,
      "metadata": {
        "id": "zo3zBYaYIXNu"
      },
      "outputs": [],
      "source": [
        "def get_activity_class(frame, sequence):\n",
        "    frame = int(frame)\n",
        "    for x in range(len(df['sequence'])):\n",
        "        if int(df['starting_frame'][x]) <= frame <= int(df['ending_frame'][x]) and str(df['sequence'][x]) == sequence:\n",
        "            return df['activity_class'][x]\n",
        "    return -1"
      ]
    },
    {
      "cell_type": "code",
      "execution_count": null,
      "metadata": {
        "id": "NZmhZrT8IXNv"
      },
      "outputs": [],
      "source": [
        "import cv2\n",
        "\n",
        "def image_segmentation(sequence_name):\n",
        "    videoCapture = cv2.VideoCapture(VIDEO_DATA + '/' + sequence_name + '.avi')\n",
        "\n",
        "    success, image = videoCapture.read()\n",
        "    count = 0\n",
        "    while success:\n",
        "        val = int(get_activity_class(count, sequence_name))\n",
        "        if int(val) != -1:\n",
        "            st = IMAGE_DATA + '/' + str(val) + '/' + sequence_name + \"_frame_\" + str(count) + \".jpg\"\n",
        "            # print(st)\n",
        "            if not os.path.exists(IMAGE_DATA + '/' + str(val)):\n",
        "                os.makedirs(IMAGE_DATA + '/' + str(val))\n",
        "            cv2.imwrite(st, image)\n",
        "        success, image = videoCapture.read()\n",
        "        count += 1\n",
        "\n",
        "image_segmentation('seq1')\n",
        "# image_segmentation('seq2')"
      ]
    },
    {
      "cell_type": "code",
      "execution_count": null,
      "metadata": {
        "id": "1G1M4bNoIXNw"
      },
      "outputs": [],
      "source": [
        "import os\n",
        "import numpy as np\n",
        "import shutil\n",
        "import random\n",
        "\n",
        "classes_dir = ['/0', '/1', '/2', '/3', '/4', '/5']\n",
        "\n",
        "for cls in classes_dir:\n",
        "    if not os.path.exists(TRAIN_DATA + cls):\n",
        "        os.makedirs(TRAIN_DATA + cls)\n",
        "    if not os.path.exists(TEST_DATA + cls):\n",
        "        os.makedirs(TEST_DATA + cls)\n",
        "\n"
      ]
    },
    {
      "cell_type": "code",
      "execution_count": null,
      "metadata": {
        "id": "eURQxwN6IXNy"
      },
      "outputs": [],
      "source": [
        "def copy_image(folder_name):\n",
        "    all_file_names = os.listdir(IMAGE_DATA + '/' + folder_name)\n",
        "\n",
        "    np.random.shuffle(all_file_names)\n",
        "    train_file_names, test_file_names = np.split(np.array(all_file_names), [int(len(all_file_names) * (1 - TEST_RATIO))])\n",
        "\n",
        "    train_file_names = [IMAGE_DATA + '/' + folder_name + '/' + name for name in train_file_names.tolist()]\n",
        "    test_file_names = [IMAGE_DATA + '/' + folder_name + '/' + name for name in test_file_names.tolist()]\n",
        "\n",
        "    print(\"*****************************\")\n",
        "    print('Total images : ', len(all_file_names))\n",
        "    print('Training     : ', len(train_file_names))\n",
        "    print('Testing      : ', len(test_file_names))\n",
        "    print(\"*****************************\")\n",
        "\n",
        "    for name in train_file_names:\n",
        "        shutil.copy(name, TRAIN_DATA + '/' + folder_name)\n",
        "\n",
        "    for name in test_file_names:\n",
        "        shutil.copy(name, TEST_DATA + '/' + folder_name)"
      ]
    },
    {
      "cell_type": "code",
      "execution_count": null,
      "metadata": {
        "colab": {
          "base_uri": "https://localhost:8080/"
        },
        "id": "I9_SaIIQIXN3",
        "outputId": "8d4dc92e-7eab-41f2-e73c-f9b8f5e0d67b"
      },
      "outputs": [
        {
          "output_type": "stream",
          "name": "stdout",
          "text": [
            "*****************************\n",
            "Total images :  154\n",
            "Training     :  123\n",
            "Testing      :  31\n",
            "*****************************\n",
            "*****************************\n",
            "Total images :  144\n",
            "Training     :  115\n",
            "Testing      :  29\n",
            "*****************************\n",
            "*****************************\n",
            "Total images :  90\n",
            "Training     :  72\n",
            "Testing      :  18\n",
            "*****************************\n",
            "*****************************\n",
            "Total images :  98\n",
            "Training     :  78\n",
            "Testing      :  20\n",
            "*****************************\n",
            "*****************************\n",
            "Total images :  80\n",
            "Training     :  64\n",
            "Testing      :  16\n",
            "*****************************\n",
            "*****************************\n",
            "Total images :  83\n",
            "Training     :  66\n",
            "Testing      :  17\n",
            "*****************************\n"
          ]
        }
      ],
      "source": [
        "for i in range(0, 6):\n",
        "    copy_image(str(i))"
      ]
    },
    {
      "cell_type": "code",
      "execution_count": null,
      "metadata": {
        "id": "eIFTop6DIXN4"
      },
      "outputs": [],
      "source": [
        "import keras\n",
        "from keras.models import Model\n",
        "from keras.layers import Dense\n",
        "from keras import optimizers\n",
        "from keras.preprocessing.image import ImageDataGenerator\n",
        "from keras.preprocessing import image"
      ]
    },
    {
      "cell_type": "code",
      "execution_count": null,
      "metadata": {
        "colab": {
          "base_uri": "https://localhost:8080/"
        },
        "id": "zpfqpWB9IXN4",
        "outputId": "3c16c0d8-281e-45d8-e6fb-bb472ff8c373"
      },
      "outputs": [
        {
          "output_type": "stream",
          "name": "stdout",
          "text": [
            "Found 518 images belonging to 6 classes.\n",
            "Found 131 images belonging to 6 classes.\n"
          ]
        }
      ],
      "source": [
        "train_data = ImageDataGenerator().flow_from_directory(directory=TRAIN_DATA, target_size=(224, 224))\n",
        "\n",
        "test_data = ImageDataGenerator().flow_from_directory(directory=TEST_DATA, target_size=(224, 224))"
      ]
    },
    {
      "cell_type": "code",
      "execution_count": null,
      "metadata": {
        "colab": {
          "base_uri": "https://localhost:8080/"
        },
        "id": "8ikuh7pmIXN5",
        "outputId": "f765058d-ecab-4937-c785-27e80fc8a5bc"
      },
      "outputs": [
        {
          "output_type": "stream",
          "name": "stdout",
          "text": [
            "Model: \"vgg16\"\n",
            "_________________________________________________________________\n",
            " Layer (type)                Output Shape              Param #   \n",
            "=================================================================\n",
            " input_1 (InputLayer)        [(None, 224, 224, 3)]     0         \n",
            "                                                                 \n",
            " block1_conv1 (Conv2D)       (None, 224, 224, 64)      1792      \n",
            "                                                                 \n",
            " block1_conv2 (Conv2D)       (None, 224, 224, 64)      36928     \n",
            "                                                                 \n",
            " block1_pool (MaxPooling2D)  (None, 112, 112, 64)      0         \n",
            "                                                                 \n",
            " block2_conv1 (Conv2D)       (None, 112, 112, 128)     73856     \n",
            "                                                                 \n",
            " block2_conv2 (Conv2D)       (None, 112, 112, 128)     147584    \n",
            "                                                                 \n",
            " block2_pool (MaxPooling2D)  (None, 56, 56, 128)       0         \n",
            "                                                                 \n",
            " block3_conv1 (Conv2D)       (None, 56, 56, 256)       295168    \n",
            "                                                                 \n",
            " block3_conv2 (Conv2D)       (None, 56, 56, 256)       590080    \n",
            "                                                                 \n",
            " block3_conv3 (Conv2D)       (None, 56, 56, 256)       590080    \n",
            "                                                                 \n",
            " block3_pool (MaxPooling2D)  (None, 28, 28, 256)       0         \n",
            "                                                                 \n",
            " block4_conv1 (Conv2D)       (None, 28, 28, 512)       1180160   \n",
            "                                                                 \n",
            " block4_conv2 (Conv2D)       (None, 28, 28, 512)       2359808   \n",
            "                                                                 \n",
            " block4_conv3 (Conv2D)       (None, 28, 28, 512)       2359808   \n",
            "                                                                 \n",
            " block4_pool (MaxPooling2D)  (None, 14, 14, 512)       0         \n",
            "                                                                 \n",
            " block5_conv1 (Conv2D)       (None, 14, 14, 512)       2359808   \n",
            "                                                                 \n",
            " block5_conv2 (Conv2D)       (None, 14, 14, 512)       2359808   \n",
            "                                                                 \n",
            " block5_conv3 (Conv2D)       (None, 14, 14, 512)       2359808   \n",
            "                                                                 \n",
            " block5_pool (MaxPooling2D)  (None, 7, 7, 512)         0         \n",
            "                                                                 \n",
            " flatten (Flatten)           (None, 25088)             0         \n",
            "                                                                 \n",
            " fc1 (Dense)                 (None, 4096)              102764544 \n",
            "                                                                 \n",
            " fc2 (Dense)                 (None, 4096)              16781312  \n",
            "                                                                 \n",
            " predictions (Dense)         (None, 1000)              4097000   \n",
            "                                                                 \n",
            "=================================================================\n",
            "Total params: 138,357,544\n",
            "Trainable params: 138,357,544\n",
            "Non-trainable params: 0\n",
            "_________________________________________________________________\n"
          ]
        }
      ],
      "source": [
        "from keras.applications.vgg16 import VGG16\n",
        "\n",
        "vgg_model = VGG16(weights='imagenet', include_top=True)\n",
        "vgg_model.summary()"
      ]
    },
    {
      "cell_type": "code",
      "execution_count": null,
      "metadata": {
        "id": "jrFLLHHWIXN6"
      },
      "outputs": [],
      "source": [
        "X = vgg_model.layers[-2].output\n",
        "predictions = Dense(6, activation=\"softmax\")(X)\n",
        "model_final = Model(vgg_model.input, predictions)"
      ]
    },
    {
      "cell_type": "code",
      "execution_count": null,
      "metadata": {
        "colab": {
          "base_uri": "https://localhost:8080/"
        },
        "id": "zQjIHPyUIXN7",
        "outputId": "b6030d2c-9905-469b-fd24-a37f2ea51661"
      },
      "outputs": [
        {
          "output_type": "stream",
          "name": "stdout",
          "text": [
            "Model: \"model\"\n",
            "_________________________________________________________________\n",
            " Layer (type)                Output Shape              Param #   \n",
            "=================================================================\n",
            " input_1 (InputLayer)        [(None, 224, 224, 3)]     0         \n",
            "                                                                 \n",
            " block1_conv1 (Conv2D)       (None, 224, 224, 64)      1792      \n",
            "                                                                 \n",
            " block1_conv2 (Conv2D)       (None, 224, 224, 64)      36928     \n",
            "                                                                 \n",
            " block1_pool (MaxPooling2D)  (None, 112, 112, 64)      0         \n",
            "                                                                 \n",
            " block2_conv1 (Conv2D)       (None, 112, 112, 128)     73856     \n",
            "                                                                 \n",
            " block2_conv2 (Conv2D)       (None, 112, 112, 128)     147584    \n",
            "                                                                 \n",
            " block2_pool (MaxPooling2D)  (None, 56, 56, 128)       0         \n",
            "                                                                 \n",
            " block3_conv1 (Conv2D)       (None, 56, 56, 256)       295168    \n",
            "                                                                 \n",
            " block3_conv2 (Conv2D)       (None, 56, 56, 256)       590080    \n",
            "                                                                 \n",
            " block3_conv3 (Conv2D)       (None, 56, 56, 256)       590080    \n",
            "                                                                 \n",
            " block3_pool (MaxPooling2D)  (None, 28, 28, 256)       0         \n",
            "                                                                 \n",
            " block4_conv1 (Conv2D)       (None, 28, 28, 512)       1180160   \n",
            "                                                                 \n",
            " block4_conv2 (Conv2D)       (None, 28, 28, 512)       2359808   \n",
            "                                                                 \n",
            " block4_conv3 (Conv2D)       (None, 28, 28, 512)       2359808   \n",
            "                                                                 \n",
            " block4_pool (MaxPooling2D)  (None, 14, 14, 512)       0         \n",
            "                                                                 \n",
            " block5_conv1 (Conv2D)       (None, 14, 14, 512)       2359808   \n",
            "                                                                 \n",
            " block5_conv2 (Conv2D)       (None, 14, 14, 512)       2359808   \n",
            "                                                                 \n",
            " block5_conv3 (Conv2D)       (None, 14, 14, 512)       2359808   \n",
            "                                                                 \n",
            " block5_pool (MaxPooling2D)  (None, 7, 7, 512)         0         \n",
            "                                                                 \n",
            " flatten (Flatten)           (None, 25088)             0         \n",
            "                                                                 \n",
            " fc1 (Dense)                 (None, 4096)              102764544 \n",
            "                                                                 \n",
            " fc2 (Dense)                 (None, 4096)              16781312  \n",
            "                                                                 \n",
            " dense (Dense)               (None, 6)                 24582     \n",
            "                                                                 \n",
            "=================================================================\n",
            "Total params: 134,285,126\n",
            "Trainable params: 134,285,126\n",
            "Non-trainable params: 0\n",
            "_________________________________________________________________\n"
          ]
        }
      ],
      "source": [
        "model_final.compile(loss=\"categorical_crossentropy\", optimizer=optimizers.SGD(learning_rate=0.0001, momentum=0.9),metrics=[\"accuracy\"])\n",
        "model_final.summary()"
      ]
    },
    {
      "cell_type": "code",
      "execution_count": null,
      "metadata": {
        "colab": {
          "base_uri": "https://localhost:8080/"
        },
        "id": "UapnrWlLIXN8",
        "outputId": "1a532885-e4af-47a4-f9ad-ec4d15771798"
      },
      "outputs": [
        {
          "output_type": "stream",
          "name": "stdout",
          "text": [
            "Epoch 1/40\n"
          ]
        },
        {
          "output_type": "stream",
          "name": "stderr",
          "text": [
            "WARNING:tensorflow:Can save best model only with val_accuracy available, skipping.\n"
          ]
        },
        {
          "output_type": "stream",
          "name": "stdout",
          "text": [
            "\r1/2 [==============>...............] - ETA: 1:10 - loss: 2.4792 - accuracy: 0.1875"
          ]
        },
        {
          "output_type": "stream",
          "name": "stderr",
          "text": [
            "WARNING:tensorflow:Can save best model only with val_accuracy available, skipping.\n"
          ]
        },
        {
          "output_type": "stream",
          "name": "stdout",
          "text": [
            "2/2 [==============================] - 168s 98s/step - loss: 2.1398 - accuracy: 0.1875 - val_loss: 1.9669 - val_accuracy: 0.3438\n",
            "Epoch 2/40\n"
          ]
        },
        {
          "output_type": "stream",
          "name": "stderr",
          "text": [
            "WARNING:tensorflow:Can save best model only with val_accuracy available, skipping.\n"
          ]
        },
        {
          "output_type": "stream",
          "name": "stdout",
          "text": [
            "\r1/2 [==============>...............] - ETA: 1:08 - loss: 1.9088 - accuracy: 0.2500"
          ]
        },
        {
          "output_type": "stream",
          "name": "stderr",
          "text": [
            "WARNING:tensorflow:Can save best model only with val_accuracy available, skipping.\n"
          ]
        },
        {
          "output_type": "stream",
          "name": "stdout",
          "text": [
            "2/2 [==============================] - 154s 85s/step - loss: 1.8665 - accuracy: 0.2344 - val_loss: 1.4742 - val_accuracy: 0.5000\n",
            "Epoch 3/40\n"
          ]
        },
        {
          "output_type": "stream",
          "name": "stderr",
          "text": [
            "WARNING:tensorflow:Can save best model only with val_accuracy available, skipping.\n"
          ]
        },
        {
          "output_type": "stream",
          "name": "stdout",
          "text": [
            "\r1/2 [==============>...............] - ETA: 1:06 - loss: 1.7527 - accuracy: 0.4375"
          ]
        },
        {
          "output_type": "stream",
          "name": "stderr",
          "text": [
            "WARNING:tensorflow:Can save best model only with val_accuracy available, skipping.\n"
          ]
        },
        {
          "output_type": "stream",
          "name": "stdout",
          "text": [
            "2/2 [==============================] - 173s 106s/step - loss: 1.7091 - accuracy: 0.3906 - val_loss: 1.1998 - val_accuracy: 0.5312\n",
            "Epoch 4/40\n"
          ]
        },
        {
          "output_type": "stream",
          "name": "stderr",
          "text": [
            "WARNING:tensorflow:Can save best model only with val_accuracy available, skipping.\n"
          ]
        },
        {
          "output_type": "stream",
          "name": "stdout",
          "text": [
            "\r1/2 [==============>...............] - ETA: 1:07 - loss: 1.2365 - accuracy: 0.5625"
          ]
        },
        {
          "output_type": "stream",
          "name": "stderr",
          "text": [
            "WARNING:tensorflow:Can save best model only with val_accuracy available, skipping.\n"
          ]
        },
        {
          "output_type": "stream",
          "name": "stdout",
          "text": [
            "2/2 [==============================] - 173s 106s/step - loss: 1.3336 - accuracy: 0.5156 - val_loss: 1.2146 - val_accuracy: 0.5625\n",
            "Epoch 5/40\n"
          ]
        },
        {
          "output_type": "stream",
          "name": "stderr",
          "text": [
            "WARNING:tensorflow:Can save best model only with val_accuracy available, skipping.\n"
          ]
        },
        {
          "output_type": "stream",
          "name": "stdout",
          "text": [
            "\r1/2 [==============>...............] - ETA: 1:08 - loss: 1.2101 - accuracy: 0.5938"
          ]
        },
        {
          "output_type": "stream",
          "name": "stderr",
          "text": [
            "WARNING:tensorflow:Can save best model only with val_accuracy available, skipping.\n"
          ]
        },
        {
          "output_type": "stream",
          "name": "stdout",
          "text": [
            "2/2 [==============================] - 154s 85s/step - loss: 1.1691 - accuracy: 0.5469 - val_loss: 0.9179 - val_accuracy: 0.7188\n",
            "Epoch 6/40\n"
          ]
        },
        {
          "output_type": "stream",
          "name": "stderr",
          "text": [
            "WARNING:tensorflow:Can save best model only with val_accuracy available, skipping.\n"
          ]
        },
        {
          "output_type": "stream",
          "name": "stdout",
          "text": [
            "\r1/2 [==============>...............] - ETA: 1:06 - loss: 0.8112 - accuracy: 0.8438"
          ]
        },
        {
          "output_type": "stream",
          "name": "stderr",
          "text": [
            "WARNING:tensorflow:Can save best model only with val_accuracy available, skipping.\n"
          ]
        },
        {
          "output_type": "stream",
          "name": "stdout",
          "text": [
            "2/2 [==============================] - 152s 86s/step - loss: 0.7890 - accuracy: 0.8125 - val_loss: 0.8995 - val_accuracy: 0.7188\n",
            "Epoch 7/40\n"
          ]
        },
        {
          "output_type": "stream",
          "name": "stderr",
          "text": [
            "WARNING:tensorflow:Can save best model only with val_accuracy available, skipping.\n"
          ]
        },
        {
          "output_type": "stream",
          "name": "stdout",
          "text": [
            "\r1/2 [==============>...............] - ETA: 1:05 - loss: 0.9825 - accuracy: 0.5938"
          ]
        },
        {
          "output_type": "stream",
          "name": "stderr",
          "text": [
            "WARNING:tensorflow:Can save best model only with val_accuracy available, skipping.\n"
          ]
        },
        {
          "output_type": "stream",
          "name": "stdout",
          "text": [
            "2/2 [==============================] - 151s 86s/step - loss: 0.8170 - accuracy: 0.6719 - val_loss: 0.8187 - val_accuracy: 0.6562\n",
            "Epoch 8/40\n"
          ]
        },
        {
          "output_type": "stream",
          "name": "stderr",
          "text": [
            "WARNING:tensorflow:Can save best model only with val_accuracy available, skipping.\n"
          ]
        },
        {
          "output_type": "stream",
          "name": "stdout",
          "text": [
            "\r1/2 [==============>...............] - ETA: 16s - loss: 0.8119 - accuracy: 0.5000"
          ]
        },
        {
          "output_type": "stream",
          "name": "stderr",
          "text": [
            "WARNING:tensorflow:Can save best model only with val_accuracy available, skipping.\n"
          ]
        },
        {
          "output_type": "stream",
          "name": "stdout",
          "text": [
            "2/2 [==============================] - 104s 88s/step - loss: 0.8176 - accuracy: 0.7105 - val_loss: 0.9496 - val_accuracy: 0.7188\n",
            "Epoch 9/40\n"
          ]
        },
        {
          "output_type": "stream",
          "name": "stderr",
          "text": [
            "WARNING:tensorflow:Can save best model only with val_accuracy available, skipping.\n"
          ]
        },
        {
          "output_type": "stream",
          "name": "stdout",
          "text": [
            "\r1/2 [==============>...............] - ETA: 1:06 - loss: 0.9531 - accuracy: 0.6250"
          ]
        },
        {
          "output_type": "stream",
          "name": "stderr",
          "text": [
            "WARNING:tensorflow:Can save best model only with val_accuracy available, skipping.\n"
          ]
        },
        {
          "output_type": "stream",
          "name": "stdout",
          "text": [
            "2/2 [==============================] - 153s 87s/step - loss: 0.8909 - accuracy: 0.6875 - val_loss: 0.5740 - val_accuracy: 0.9375\n",
            "Epoch 10/40\n"
          ]
        },
        {
          "output_type": "stream",
          "name": "stderr",
          "text": [
            "WARNING:tensorflow:Can save best model only with val_accuracy available, skipping.\n"
          ]
        },
        {
          "output_type": "stream",
          "name": "stdout",
          "text": [
            "\r1/2 [==============>...............] - ETA: 1:05 - loss: 0.5194 - accuracy: 0.8750"
          ]
        },
        {
          "output_type": "stream",
          "name": "stderr",
          "text": [
            "WARNING:tensorflow:Can save best model only with val_accuracy available, skipping.\n"
          ]
        },
        {
          "output_type": "stream",
          "name": "stdout",
          "text": [
            "2/2 [==============================] - 153s 87s/step - loss: 0.6451 - accuracy: 0.8281 - val_loss: 0.7199 - val_accuracy: 0.7500\n",
            "Epoch 11/40\n"
          ]
        },
        {
          "output_type": "stream",
          "name": "stderr",
          "text": [
            "WARNING:tensorflow:Can save best model only with val_accuracy available, skipping.\n"
          ]
        },
        {
          "output_type": "stream",
          "name": "stdout",
          "text": [
            "\r1/2 [==============>...............] - ETA: 15s - loss: 0.5381 - accuracy: 0.8333"
          ]
        },
        {
          "output_type": "stream",
          "name": "stderr",
          "text": [
            "WARNING:tensorflow:Can save best model only with val_accuracy available, skipping.\n"
          ]
        },
        {
          "output_type": "stream",
          "name": "stdout",
          "text": [
            "2/2 [==============================] - 98s 82s/step - loss: 0.5902 - accuracy: 0.8421 - val_loss: 0.5730 - val_accuracy: 0.8750\n",
            "Epoch 12/40\n"
          ]
        },
        {
          "output_type": "stream",
          "name": "stderr",
          "text": [
            "WARNING:tensorflow:Can save best model only with val_accuracy available, skipping.\n"
          ]
        },
        {
          "output_type": "stream",
          "name": "stdout",
          "text": [
            "\r1/2 [==============>...............] - ETA: 1:07 - loss: 0.7825 - accuracy: 0.7500"
          ]
        },
        {
          "output_type": "stream",
          "name": "stderr",
          "text": [
            "WARNING:tensorflow:Can save best model only with val_accuracy available, skipping.\n"
          ]
        },
        {
          "output_type": "stream",
          "name": "stdout",
          "text": [
            "2/2 [==============================] - 159s 92s/step - loss: 0.5496 - accuracy: 0.8438 - val_loss: 0.4879 - val_accuracy: 0.7812\n",
            "Epoch 13/40\n"
          ]
        },
        {
          "output_type": "stream",
          "name": "stderr",
          "text": [
            "WARNING:tensorflow:Can save best model only with val_accuracy available, skipping.\n"
          ]
        },
        {
          "output_type": "stream",
          "name": "stdout",
          "text": [
            "\r1/2 [==============>...............] - ETA: 1:06 - loss: 0.4802 - accuracy: 0.8125"
          ]
        },
        {
          "output_type": "stream",
          "name": "stderr",
          "text": [
            "WARNING:tensorflow:Can save best model only with val_accuracy available, skipping.\n"
          ]
        },
        {
          "output_type": "stream",
          "name": "stdout",
          "text": [
            "2/2 [==============================] - 152s 85s/step - loss: 0.4330 - accuracy: 0.8125 - val_loss: 0.6559 - val_accuracy: 0.8125\n",
            "Epoch 14/40\n"
          ]
        },
        {
          "output_type": "stream",
          "name": "stderr",
          "text": [
            "WARNING:tensorflow:Can save best model only with val_accuracy available, skipping.\n"
          ]
        },
        {
          "output_type": "stream",
          "name": "stdout",
          "text": [
            "\r1/2 [==============>...............] - ETA: 1:05 - loss: 0.5846 - accuracy: 0.8125"
          ]
        },
        {
          "output_type": "stream",
          "name": "stderr",
          "text": [
            "WARNING:tensorflow:Can save best model only with val_accuracy available, skipping.\n"
          ]
        },
        {
          "output_type": "stream",
          "name": "stdout",
          "text": [
            "2/2 [==============================] - 155s 89s/step - loss: 0.4631 - accuracy: 0.8594 - val_loss: 0.3296 - val_accuracy: 0.8438\n",
            "Epoch 15/40\n"
          ]
        },
        {
          "output_type": "stream",
          "name": "stderr",
          "text": [
            "WARNING:tensorflow:Can save best model only with val_accuracy available, skipping.\n"
          ]
        },
        {
          "output_type": "stream",
          "name": "stdout",
          "text": [
            "\r1/2 [==============>...............] - ETA: 1:06 - loss: 0.2343 - accuracy: 0.9375"
          ]
        },
        {
          "output_type": "stream",
          "name": "stderr",
          "text": [
            "WARNING:tensorflow:Can save best model only with val_accuracy available, skipping.\n"
          ]
        },
        {
          "output_type": "stream",
          "name": "stdout",
          "text": [
            "2/2 [==============================] - 157s 91s/step - loss: 0.2019 - accuracy: 0.9531 - val_loss: 0.2817 - val_accuracy: 0.9062\n",
            "Epoch 16/40\n"
          ]
        },
        {
          "output_type": "stream",
          "name": "stderr",
          "text": [
            "WARNING:tensorflow:Can save best model only with val_accuracy available, skipping.\n"
          ]
        },
        {
          "output_type": "stream",
          "name": "stdout",
          "text": [
            "\r1/2 [==============>...............] - ETA: 1:07 - loss: 0.2668 - accuracy: 0.9688"
          ]
        },
        {
          "output_type": "stream",
          "name": "stderr",
          "text": [
            "WARNING:tensorflow:Can save best model only with val_accuracy available, skipping.\n"
          ]
        },
        {
          "output_type": "stream",
          "name": "stdout",
          "text": [
            "2/2 [==============================] - 155s 87s/step - loss: 0.2314 - accuracy: 0.9844 - val_loss: 0.3235 - val_accuracy: 0.9062\n",
            "Epoch 17/40\n"
          ]
        },
        {
          "output_type": "stream",
          "name": "stderr",
          "text": [
            "WARNING:tensorflow:Can save best model only with val_accuracy available, skipping.\n"
          ]
        },
        {
          "output_type": "stream",
          "name": "stdout",
          "text": [
            "\r1/2 [==============>...............] - ETA: 1:07 - loss: 0.2840 - accuracy: 0.9375"
          ]
        },
        {
          "output_type": "stream",
          "name": "stderr",
          "text": [
            "WARNING:tensorflow:Can save best model only with val_accuracy available, skipping.\n"
          ]
        },
        {
          "output_type": "stream",
          "name": "stdout",
          "text": [
            "2/2 [==============================] - 153s 85s/step - loss: 0.2587 - accuracy: 0.9531 - val_loss: 0.2913 - val_accuracy: 0.9688\n",
            "Epoch 18/40\n"
          ]
        },
        {
          "output_type": "stream",
          "name": "stderr",
          "text": [
            "WARNING:tensorflow:Can save best model only with val_accuracy available, skipping.\n"
          ]
        },
        {
          "output_type": "stream",
          "name": "stdout",
          "text": [
            "\r1/2 [==============>...............] - ETA: 1:05 - loss: 0.2700 - accuracy: 0.9688"
          ]
        },
        {
          "output_type": "stream",
          "name": "stderr",
          "text": [
            "WARNING:tensorflow:Can save best model only with val_accuracy available, skipping.\n"
          ]
        },
        {
          "output_type": "stream",
          "name": "stdout",
          "text": [
            "2/2 [==============================] - 152s 86s/step - loss: 0.2112 - accuracy: 0.9844 - val_loss: 0.0728 - val_accuracy: 1.0000\n",
            "Epoch 19/40\n"
          ]
        },
        {
          "output_type": "stream",
          "name": "stderr",
          "text": [
            "WARNING:tensorflow:Can save best model only with val_accuracy available, skipping.\n"
          ]
        },
        {
          "output_type": "stream",
          "name": "stdout",
          "text": [
            "\r1/2 [==============>...............] - ETA: 1:10 - loss: 0.1266 - accuracy: 0.9688"
          ]
        },
        {
          "output_type": "stream",
          "name": "stderr",
          "text": [
            "WARNING:tensorflow:Can save best model only with val_accuracy available, skipping.\n"
          ]
        },
        {
          "output_type": "stream",
          "name": "stdout",
          "text": [
            "2/2 [==============================] - 153s 82s/step - loss: 0.1135 - accuracy: 0.9688 - val_loss: 0.1320 - val_accuracy: 0.9688\n",
            "Epoch 20/40\n"
          ]
        },
        {
          "output_type": "stream",
          "name": "stderr",
          "text": [
            "WARNING:tensorflow:Can save best model only with val_accuracy available, skipping.\n"
          ]
        },
        {
          "output_type": "stream",
          "name": "stdout",
          "text": [
            "\r1/2 [==============>...............] - ETA: 15s - loss: 0.3101 - accuracy: 0.8333"
          ]
        },
        {
          "output_type": "stream",
          "name": "stderr",
          "text": [
            "WARNING:tensorflow:Can save best model only with val_accuracy available, skipping.\n"
          ]
        },
        {
          "output_type": "stream",
          "name": "stdout",
          "text": [
            "2/2 [==============================] - 103s 88s/step - loss: 0.1243 - accuracy: 0.9737 - val_loss: 0.1252 - val_accuracy: 0.9688\n",
            "Epoch 21/40\n"
          ]
        },
        {
          "output_type": "stream",
          "name": "stderr",
          "text": [
            "WARNING:tensorflow:Can save best model only with val_accuracy available, skipping.\n"
          ]
        },
        {
          "output_type": "stream",
          "name": "stdout",
          "text": [
            "\r1/2 [==============>...............] - ETA: 1:06 - loss: 0.1255 - accuracy: 0.9375"
          ]
        },
        {
          "output_type": "stream",
          "name": "stderr",
          "text": [
            "WARNING:tensorflow:Can save best model only with val_accuracy available, skipping.\n"
          ]
        },
        {
          "output_type": "stream",
          "name": "stdout",
          "text": [
            "2/2 [==============================] - 153s 87s/step - loss: 0.1489 - accuracy: 0.9375 - val_loss: 0.1538 - val_accuracy: 0.9375\n",
            "Epoch 22/40\n"
          ]
        },
        {
          "output_type": "stream",
          "name": "stderr",
          "text": [
            "WARNING:tensorflow:Can save best model only with val_accuracy available, skipping.\n"
          ]
        },
        {
          "output_type": "stream",
          "name": "stdout",
          "text": [
            "\r1/2 [==============>...............] - ETA: 1:05 - loss: 0.0932 - accuracy: 0.9688"
          ]
        },
        {
          "output_type": "stream",
          "name": "stderr",
          "text": [
            "WARNING:tensorflow:Can save best model only with val_accuracy available, skipping.\n"
          ]
        },
        {
          "output_type": "stream",
          "name": "stdout",
          "text": [
            "2/2 [==============================] - 152s 87s/step - loss: 0.0955 - accuracy: 0.9531 - val_loss: 0.1431 - val_accuracy: 0.9375\n",
            "Epoch 23/40\n"
          ]
        },
        {
          "output_type": "stream",
          "name": "stderr",
          "text": [
            "WARNING:tensorflow:Can save best model only with val_accuracy available, skipping.\n"
          ]
        },
        {
          "output_type": "stream",
          "name": "stdout",
          "text": [
            "\r1/2 [==============>...............] - ETA: 1:06 - loss: 0.0844 - accuracy: 1.0000"
          ]
        },
        {
          "output_type": "stream",
          "name": "stderr",
          "text": [
            "WARNING:tensorflow:Can save best model only with val_accuracy available, skipping.\n"
          ]
        },
        {
          "output_type": "stream",
          "name": "stdout",
          "text": [
            "2/2 [==============================] - 152s 85s/step - loss: 0.0894 - accuracy: 0.9844 - val_loss: 0.1583 - val_accuracy: 0.9375\n",
            "Epoch 24/40\n"
          ]
        },
        {
          "output_type": "stream",
          "name": "stderr",
          "text": [
            "WARNING:tensorflow:Can save best model only with val_accuracy available, skipping.\n"
          ]
        },
        {
          "output_type": "stream",
          "name": "stdout",
          "text": [
            "\r1/2 [==============>...............] - ETA: 1:04 - loss: 0.0680 - accuracy: 0.9688"
          ]
        },
        {
          "output_type": "stream",
          "name": "stderr",
          "text": [
            "WARNING:tensorflow:Can save best model only with val_accuracy available, skipping.\n"
          ]
        },
        {
          "output_type": "stream",
          "name": "stdout",
          "text": [
            "2/2 [==============================] - 99s 34s/step - loss: 0.0820 - accuracy: 0.9474 - val_loss: 0.0776 - val_accuracy: 1.0000\n",
            "Epoch 25/40\n"
          ]
        },
        {
          "output_type": "stream",
          "name": "stderr",
          "text": [
            "WARNING:tensorflow:Can save best model only with val_accuracy available, skipping.\n"
          ]
        },
        {
          "output_type": "stream",
          "name": "stdout",
          "text": [
            "\r1/2 [==============>...............] - ETA: 15s - loss: 0.1522 - accuracy: 1.0000"
          ]
        },
        {
          "output_type": "stream",
          "name": "stderr",
          "text": [
            "WARNING:tensorflow:Can save best model only with val_accuracy available, skipping.\n"
          ]
        },
        {
          "output_type": "stream",
          "name": "stdout",
          "text": [
            "2/2 [==============================] - 103s 87s/step - loss: 0.0924 - accuracy: 1.0000 - val_loss: 0.1643 - val_accuracy: 0.9375\n",
            "Epoch 26/40\n"
          ]
        },
        {
          "output_type": "stream",
          "name": "stderr",
          "text": [
            "WARNING:tensorflow:Can save best model only with val_accuracy available, skipping.\n"
          ]
        },
        {
          "output_type": "stream",
          "name": "stdout",
          "text": [
            "\r1/2 [==============>...............] - ETA: 1:06 - loss: 0.1075 - accuracy: 0.9375"
          ]
        },
        {
          "output_type": "stream",
          "name": "stderr",
          "text": [
            "WARNING:tensorflow:Can save best model only with val_accuracy available, skipping.\n"
          ]
        },
        {
          "output_type": "stream",
          "name": "stdout",
          "text": [
            "2/2 [==============================] - 151s 85s/step - loss: 0.2710 - accuracy: 0.8906 - val_loss: 0.1264 - val_accuracy: 0.9375\n",
            "Epoch 27/40\n"
          ]
        },
        {
          "output_type": "stream",
          "name": "stderr",
          "text": [
            "WARNING:tensorflow:Can save best model only with val_accuracy available, skipping.\n"
          ]
        },
        {
          "output_type": "stream",
          "name": "stdout",
          "text": [
            "\r1/2 [==============>...............] - ETA: 1:05 - loss: 0.0707 - accuracy: 1.0000"
          ]
        },
        {
          "output_type": "stream",
          "name": "stderr",
          "text": [
            "WARNING:tensorflow:Can save best model only with val_accuracy available, skipping.\n"
          ]
        },
        {
          "output_type": "stream",
          "name": "stdout",
          "text": [
            "2/2 [==============================] - 152s 87s/step - loss: 0.0569 - accuracy: 1.0000 - val_loss: 0.3042 - val_accuracy: 0.8750\n",
            "Epoch 28/40\n"
          ]
        },
        {
          "output_type": "stream",
          "name": "stderr",
          "text": [
            "WARNING:tensorflow:Can save best model only with val_accuracy available, skipping.\n"
          ]
        },
        {
          "output_type": "stream",
          "name": "stdout",
          "text": [
            "\r1/2 [==============>...............] - ETA: 1:06 - loss: 0.1558 - accuracy: 0.9375"
          ]
        },
        {
          "output_type": "stream",
          "name": "stderr",
          "text": [
            "WARNING:tensorflow:Can save best model only with val_accuracy available, skipping.\n"
          ]
        },
        {
          "output_type": "stream",
          "name": "stdout",
          "text": [
            "2/2 [==============================] - 152s 85s/step - loss: 0.1667 - accuracy: 0.9375 - val_loss: 0.0930 - val_accuracy: 0.9688\n",
            "Epoch 29/40\n"
          ]
        },
        {
          "output_type": "stream",
          "name": "stderr",
          "text": [
            "WARNING:tensorflow:Can save best model only with val_accuracy available, skipping.\n"
          ]
        },
        {
          "output_type": "stream",
          "name": "stdout",
          "text": [
            "\r1/2 [==============>...............] - ETA: 1:05 - loss: 0.2068 - accuracy: 0.9062"
          ]
        },
        {
          "output_type": "stream",
          "name": "stderr",
          "text": [
            "WARNING:tensorflow:Can save best model only with val_accuracy available, skipping.\n"
          ]
        },
        {
          "output_type": "stream",
          "name": "stdout",
          "text": [
            "2/2 [==============================] - 151s 86s/step - loss: 0.1327 - accuracy: 0.9531 - val_loss: 0.0504 - val_accuracy: 1.0000\n",
            "Epoch 30/40\n"
          ]
        },
        {
          "output_type": "stream",
          "name": "stderr",
          "text": [
            "WARNING:tensorflow:Can save best model only with val_accuracy available, skipping.\n"
          ]
        },
        {
          "output_type": "stream",
          "name": "stdout",
          "text": [
            "\r1/2 [==============>...............] - ETA: 1:06 - loss: 0.0127 - accuracy: 1.0000"
          ]
        },
        {
          "output_type": "stream",
          "name": "stderr",
          "text": [
            "WARNING:tensorflow:Can save best model only with val_accuracy available, skipping.\n"
          ]
        },
        {
          "output_type": "stream",
          "name": "stdout",
          "text": [
            "2/2 [==============================] - 151s 85s/step - loss: 0.0508 - accuracy: 0.9688 - val_loss: 0.0950 - val_accuracy: 0.9688\n",
            "Epoch 31/40\n"
          ]
        },
        {
          "output_type": "stream",
          "name": "stderr",
          "text": [
            "WARNING:tensorflow:Can save best model only with val_accuracy available, skipping.\n"
          ]
        },
        {
          "output_type": "stream",
          "name": "stdout",
          "text": [
            "\r1/2 [==============>...............] - ETA: 15s - loss: 0.1863 - accuracy: 1.0000"
          ]
        },
        {
          "output_type": "stream",
          "name": "stderr",
          "text": [
            "WARNING:tensorflow:Can save best model only with val_accuracy available, skipping.\n"
          ]
        },
        {
          "output_type": "stream",
          "name": "stdout",
          "text": [
            "2/2 [==============================] - 98s 83s/step - loss: 0.1182 - accuracy: 0.9737 - val_loss: 0.2001 - val_accuracy: 0.8750\n",
            "Epoch 32/40\n"
          ]
        },
        {
          "output_type": "stream",
          "name": "stderr",
          "text": [
            "WARNING:tensorflow:Can save best model only with val_accuracy available, skipping.\n"
          ]
        },
        {
          "output_type": "stream",
          "name": "stdout",
          "text": [
            "\r1/2 [==============>...............] - ETA: 1:05 - loss: 0.0242 - accuracy: 1.0000"
          ]
        },
        {
          "output_type": "stream",
          "name": "stderr",
          "text": [
            "WARNING:tensorflow:Can save best model only with val_accuracy available, skipping.\n"
          ]
        },
        {
          "output_type": "stream",
          "name": "stdout",
          "text": [
            "2/2 [==============================] - 151s 86s/step - loss: 0.0512 - accuracy: 0.9844 - val_loss: 0.4200 - val_accuracy: 0.9062\n",
            "Epoch 33/40\n"
          ]
        },
        {
          "output_type": "stream",
          "name": "stderr",
          "text": [
            "WARNING:tensorflow:Can save best model only with val_accuracy available, skipping.\n"
          ]
        },
        {
          "output_type": "stream",
          "name": "stdout",
          "text": [
            "\r1/2 [==============>...............] - ETA: 1:06 - loss: 0.3851 - accuracy: 0.9062"
          ]
        },
        {
          "output_type": "stream",
          "name": "stderr",
          "text": [
            "WARNING:tensorflow:Can save best model only with val_accuracy available, skipping.\n"
          ]
        },
        {
          "output_type": "stream",
          "name": "stdout",
          "text": [
            "2/2 [==============================] - 157s 91s/step - loss: 0.2189 - accuracy: 0.9531 - val_loss: 0.1130 - val_accuracy: 0.9688\n",
            "Epoch 34/40\n"
          ]
        },
        {
          "output_type": "stream",
          "name": "stderr",
          "text": [
            "WARNING:tensorflow:Can save best model only with val_accuracy available, skipping.\n"
          ]
        },
        {
          "output_type": "stream",
          "name": "stdout",
          "text": [
            "\r1/2 [==============>...............] - ETA: 1:11 - loss: 0.3042 - accuracy: 0.9062"
          ]
        },
        {
          "output_type": "stream",
          "name": "stderr",
          "text": [
            "WARNING:tensorflow:Can save best model only with val_accuracy available, skipping.\n"
          ]
        },
        {
          "output_type": "stream",
          "name": "stdout",
          "text": [
            "2/2 [==============================] - 163s 91s/step - loss: 0.1574 - accuracy: 0.9531 - val_loss: 0.0193 - val_accuracy: 1.0000\n",
            "Epoch 35/40\n"
          ]
        },
        {
          "output_type": "stream",
          "name": "stderr",
          "text": [
            "WARNING:tensorflow:Can save best model only with val_accuracy available, skipping.\n"
          ]
        },
        {
          "output_type": "stream",
          "name": "stdout",
          "text": [
            "\r1/2 [==============>...............] - ETA: 1:06 - loss: 0.0163 - accuracy: 1.0000"
          ]
        },
        {
          "output_type": "stream",
          "name": "stderr",
          "text": [
            "WARNING:tensorflow:Can save best model only with val_accuracy available, skipping.\n"
          ]
        },
        {
          "output_type": "stream",
          "name": "stdout",
          "text": [
            "2/2 [==============================] - 151s 85s/step - loss: 0.0335 - accuracy: 0.9844 - val_loss: 0.0381 - val_accuracy: 1.0000\n",
            "Epoch 36/40\n"
          ]
        },
        {
          "output_type": "stream",
          "name": "stderr",
          "text": [
            "WARNING:tensorflow:Can save best model only with val_accuracy available, skipping.\n"
          ]
        },
        {
          "output_type": "stream",
          "name": "stdout",
          "text": [
            "\r1/2 [==============>...............] - ETA: 1:04 - loss: 0.0352 - accuracy: 1.0000"
          ]
        },
        {
          "output_type": "stream",
          "name": "stderr",
          "text": [
            "WARNING:tensorflow:Can save best model only with val_accuracy available, skipping.\n"
          ]
        },
        {
          "output_type": "stream",
          "name": "stdout",
          "text": [
            "2/2 [==============================] - 151s 86s/step - loss: 0.0367 - accuracy: 1.0000 - val_loss: 0.0426 - val_accuracy: 1.0000\n",
            "Epoch 37/40\n"
          ]
        },
        {
          "output_type": "stream",
          "name": "stderr",
          "text": [
            "WARNING:tensorflow:Can save best model only with val_accuracy available, skipping.\n"
          ]
        },
        {
          "output_type": "stream",
          "name": "stdout",
          "text": [
            "\r1/2 [==============>...............] - ETA: 1:06 - loss: 0.0251 - accuracy: 1.0000"
          ]
        },
        {
          "output_type": "stream",
          "name": "stderr",
          "text": [
            "WARNING:tensorflow:Can save best model only with val_accuracy available, skipping.\n"
          ]
        },
        {
          "output_type": "stream",
          "name": "stdout",
          "text": [
            "2/2 [==============================] - 151s 85s/step - loss: 0.0299 - accuracy: 1.0000 - val_loss: 0.0440 - val_accuracy: 1.0000\n",
            "Epoch 38/40\n"
          ]
        },
        {
          "output_type": "stream",
          "name": "stderr",
          "text": [
            "WARNING:tensorflow:Can save best model only with val_accuracy available, skipping.\n"
          ]
        },
        {
          "output_type": "stream",
          "name": "stdout",
          "text": [
            "\r1/2 [==============>...............] - ETA: 1:04 - loss: 0.0136 - accuracy: 1.0000"
          ]
        },
        {
          "output_type": "stream",
          "name": "stderr",
          "text": [
            "WARNING:tensorflow:Can save best model only with val_accuracy available, skipping.\n"
          ]
        },
        {
          "output_type": "stream",
          "name": "stdout",
          "text": [
            "2/2 [==============================] - 151s 86s/step - loss: 0.0213 - accuracy: 1.0000 - val_loss: 0.0373 - val_accuracy: 1.0000\n",
            "Epoch 39/40\n"
          ]
        },
        {
          "output_type": "stream",
          "name": "stderr",
          "text": [
            "WARNING:tensorflow:Can save best model only with val_accuracy available, skipping.\n"
          ]
        },
        {
          "output_type": "stream",
          "name": "stdout",
          "text": [
            "\r1/2 [==============>...............] - ETA: 1:06 - loss: 0.0287 - accuracy: 1.0000"
          ]
        },
        {
          "output_type": "stream",
          "name": "stderr",
          "text": [
            "WARNING:tensorflow:Can save best model only with val_accuracy available, skipping.\n"
          ]
        },
        {
          "output_type": "stream",
          "name": "stdout",
          "text": [
            "2/2 [==============================] - 151s 85s/step - loss: 0.0320 - accuracy: 1.0000 - val_loss: 0.0573 - val_accuracy: 0.9688\n",
            "Epoch 40/40\n"
          ]
        },
        {
          "output_type": "stream",
          "name": "stderr",
          "text": [
            "WARNING:tensorflow:Can save best model only with val_accuracy available, skipping.\n"
          ]
        },
        {
          "output_type": "stream",
          "name": "stdout",
          "text": [
            "\r1/2 [==============>...............] - ETA: 15s - loss: 0.1032 - accuracy: 1.0000"
          ]
        },
        {
          "output_type": "stream",
          "name": "stderr",
          "text": [
            "WARNING:tensorflow:Can save best model only with val_accuracy available, skipping.\n"
          ]
        },
        {
          "output_type": "stream",
          "name": "stdout",
          "text": [
            "2/2 [==============================] - 100s 85s/step - loss: 0.0353 - accuracy: 1.0000 - val_loss: 0.0209 - val_accuracy: 1.0000\n"
          ]
        },
        {
          "output_type": "stream",
          "name": "stderr",
          "text": [
            "WARNING:absl:Found untraced functions such as _jit_compiled_convolution_op, _jit_compiled_convolution_op, _jit_compiled_convolution_op, _jit_compiled_convolution_op, _jit_compiled_convolution_op while saving (showing 5 of 13). These functions will not be directly callable after loading.\n"
          ]
        }
      ],
      "source": [
        "from keras.callbacks import ModelCheckpoint, EarlyStopping\n",
        "\n",
        "checkpoint = ModelCheckpoint(\"human_behaviour_detection.h5\", monitor='val_accuracy', verbose=1, save_best_only=True, save_weights_only=False, mode='auto', save_freq=1)\n",
        "early = EarlyStopping(monitor='val_accuracy', min_delta=0, patience=40, verbose=1, mode='auto')\n",
        "hist = model_final.fit(train_data, steps_per_epoch=2, epochs=40, validation_data=test_data,validation_steps=1, callbacks=[checkpoint, early])\n",
        "model_final.save_weights(MODEL_PATH)\n",
        "model_final.save(MODEL_DIR)"
      ]
    },
    {
      "cell_type": "code",
      "execution_count": null,
      "metadata": {
        "id": "nY6nPFeyCKYX",
        "colab": {
          "base_uri": "https://localhost:8080/",
          "height": 295
        },
        "outputId": "55a6591c-435e-44af-8215-dffb362a9ee6"
      },
      "outputs": [
        {
          "output_type": "display_data",
          "data": {
            "text/plain": [
              "<Figure size 432x288 with 1 Axes>"
            ],
            "image/png": "[encoded data removed]"
          },
          "metadata": {
            "needs_background": "light"
          }
        }
      ],
      "source": [
        "import matplotlib.pyplot as pyplot\n",
        "\n",
        "pyplot.plot(hist.history[\"accuracy\"])\n",
        "pyplot.plot(hist.history[\"val_accuracy\"])\n",
        "pyplot.plot(hist.history[\"loss\"])\n",
        "pyplot.plot(hist.history[\"val_loss\"])\n",
        "\n",
        "pyplot.title(\"model accuracy\")\n",
        "pyplot.xlabel(\"Epoch\")\n",
        "pyplot.ylabel(\"Accuracy\")\n",
        "pyplot.legend([\"Accuracy\", \"Validation Accuracy\", \"Loss\", \"Validation Loss\"])\n",
        "pyplot.savefig(IMAGE_DATA + '/plot.jpg', dpi = 1000)\n",
        "\n",
        "pyplot.show()"
      ]
    },
    {
      "cell_type": "code",
      "execution_count": null,
      "metadata": {
        "id": "YuMSOLAELJ-d"
      },
      "outputs": [],
      "source": [
        "from keras.models import load_model\n",
        "model = load_model(MODEL_DIR)\n",
        "model.load_weights(MODEL_PATH)"
      ]
    },
    {
      "cell_type": "code",
      "source": [
        "import keras.utils as image\n",
        "import numpy as np\n",
        "\n",
        "def predict_image(path):\n",
        "  imagePath = path\n",
        "  test_image = image.load_img(imagePath, target_size= (224,224))\n",
        "  test_image = image.img_to_array(test_image)\n",
        "  test_image = np.expand_dims(test_image, axis = 0)\n",
        "  result = model.predict(test_image, verbose = 0)\n",
        "  predicted_class = np.argmax(result)\n",
        "  return predicted_class"
      ],
      "metadata": {
        "id": "bH6LNOaHwiEa"
      },
      "execution_count": null,
      "outputs": []
    },
    {
      "cell_type": "code",
      "execution_count": null,
      "metadata": {
        "id": "s6hOjch_LqOh",
        "colab": {
          "base_uri": "https://localhost:8080/"
        },
        "outputId": "85dd6351-f8f1-4032-ac68-66b8c07ee3aa"
      },
      "outputs": [
        {
          "output_type": "stream",
          "name": "stdout",
          "text": [
            "Predicted class :  4\n"
          ]
        }
      ],
      "source": [
        "predicted_class = predict_image('/content/drive/MyDrive/MS_THESIS/generated_data/processed_data/test/4/seq1_frame_772.jpg')\n",
        "print('Predicted class : ', predicted_class)"
      ]
    },
    {
      "cell_type": "code",
      "source": [
        "import cv2\n",
        "\n",
        "def image_segmentation_pred(sequence_name):\n",
        "    videoCapture = cv2.VideoCapture(VIDEO_DATA + '/' + sequence_name + '.avi')\n",
        "\n",
        "    success, image = videoCapture.read()\n",
        "    count = 0\n",
        "    while success:\n",
        "        val = int(get_activity_class(count, sequence_name))\n",
        "        if int(val) != -1:\n",
        "            st = PREDICT_DATA + '/' + str(val) + '/' + sequence_name + \"_frame_\" + str(count) + \".jpg\"\n",
        "            # print(st)\n",
        "            if not os.path.exists(PREDICT_DATA + '/' + str(val)):\n",
        "                os.makedirs(PREDICT_DATA + '/' + str(val))\n",
        "            cv2.imwrite(st, image)\n",
        "        success, image = videoCapture.read()\n",
        "        count += 1\n",
        "\n",
        "# image_segmentation_pred('seq1')\n",
        "image_segmentation_pred('seq3')\n",
        "# image_segmentation_pred('seq4')\n",
        "# image_segmentation_pred('seq5')\n",
        "# image_segmentation_pred('seq6')"
      ],
      "metadata": {
        "id": "X20LWLmzu8Mp"
      },
      "execution_count": null,
      "outputs": []
    },
    {
      "cell_type": "code",
      "source": [
        "import cv2\n",
        "\n",
        "def image_segmentation_pred(sequence_name):\n",
        "    videoCapture = cv2.VideoCapture(VIDEO_DATA + '/' + sequence_name + '.avi')\n",
        "\n",
        "    success, image = videoCapture.read()\n",
        "    count = 0\n",
        "    a_0 =0\n",
        "    a_1 =0\n",
        "    a_2 =0\n",
        "    a_3 =0\n",
        "    a_4 =0\n",
        "    a_5 =0\n",
        "\n",
        "    while success:\n",
        "        val = int(get_activity_class(count, sequence_name))\n",
        "        if int(val) != -1:\n",
        "            st = PREDICT_DATA + '/' + str(val) + '/' + sequence_name + \"_frame_\" + str(count) + \".jpg\"\n",
        "            \n",
        "            if(int(val)==0):\n",
        "              a_0+=1\n",
        "              if(a_0<12):\n",
        "                cv2.imwrite(st, image)\n",
        "            if(int(val)==1):\n",
        "              a_1+=1\n",
        "              if(a_1<12):\n",
        "                cv2.imwrite(st, image)\n",
        "            if(int(val)==2):\n",
        "              a_2+=1\n",
        "              if(a_2<12):\n",
        "                cv2.imwrite(st, image)\n",
        "            if(int(val)==3):\n",
        "              a_3+=1\n",
        "              if(a_3<12):\n",
        "                cv2.imwrite(st, image)\n",
        "            if(int(val)==4):\n",
        "              a_4+=1\n",
        "              if(a_4<12):\n",
        "                cv2.imwrite(st, image)\n",
        "            if(int(val)==5):\n",
        "              a_5+=1\n",
        "              if(a_5<12):\n",
        "                cv2.imwrite(st, image)\n",
        "        success, image = videoCapture.read()\n",
        "        count += 1\n",
        "\n",
        "# image_segmentation_pred('seq1')\n",
        "image_segmentation_pred('seq3')\n",
        "# image_segmentation_pred('seq4')\n",
        "# image_segmentation_pred('seq5')\n",
        "# image_segmentation_pred('seq6')"
      ],
      "metadata": {
        "id": "_e5eW39UIqbP"
      },
      "execution_count": null,
      "outputs": []
    },
    {
      "cell_type": "code",
      "source": [
        "import os\n",
        "\n",
        "def predict_all_class(activity_class):\n",
        "  directory = PREDICT_DATA + '/' + str(activity_class)\n",
        "  num_of_files = 0\n",
        "  correct_prediction = 0\n",
        "  for filename in os.listdir(directory):\n",
        "      f = os.path.join(directory, filename)\n",
        "      if os.path.isfile(f):\n",
        "        num_of_files += 1\n",
        "        # print(f)\n",
        "        r = predict_image(f)\n",
        "        # print(r)\n",
        "        if(r == activity_class):\n",
        "          correct_prediction +=1\n",
        "          \n",
        "  print(\"*****************************\")\n",
        "  print('Activity Class     : ', str(activity_class))\n",
        "  print('Total Files        : ', num_of_files)\n",
        "  print('Correct Prediction : ', correct_prediction)\n",
        "  print('Accuracy           : ', str(round(correct_prediction/num_of_files*100,2)) + ' %')\n",
        "  print(\"*****************************\")        "
      ],
      "metadata": {
        "id": "gh0wC2p5yFDd"
      },
      "execution_count": null,
      "outputs": []
    },
    {
      "cell_type": "code",
      "source": [
        "for i in range(0, 6):\n",
        "    predict_all_class(i)\n"
      ],
      "metadata": {
        "colab": {
          "base_uri": "https://localhost:8080/"
        },
        "id": "eDcmA1aVzIZK",
        "outputId": "811390a8-40fa-4263-897e-b7fc73339a3f"
      },
      "execution_count": null,
      "outputs": [
        {
          "output_type": "stream",
          "name": "stdout",
          "text": [
            "*****************************\n",
            "Activity Class     :  0\n",
            "Total Files        :  165\n",
            "Correct Prediction :  153\n",
            "Accuracy           :  92.73 %\n",
            "*****************************\n",
            "*****************************\n",
            "Activity Class     :  1\n",
            "Total Files        :  155\n",
            "Correct Prediction :  149\n",
            "Accuracy           :  96.13 %\n",
            "*****************************\n",
            "*****************************\n",
            "Activity Class     :  2\n",
            "Total Files        :  101\n",
            "Correct Prediction :  90\n",
            "Accuracy           :  89.11 %\n",
            "*****************************\n",
            "*****************************\n",
            "Activity Class     :  3\n",
            "Total Files        :  109\n",
            "Correct Prediction :  98\n",
            "Accuracy           :  89.91 %\n",
            "*****************************\n",
            "*****************************\n",
            "Activity Class     :  4\n",
            "Total Files        :  91\n",
            "Correct Prediction :  80\n",
            "Accuracy           :  87.91 %\n",
            "*****************************\n",
            "*****************************\n",
            "Activity Class     :  5\n",
            "Total Files        :  94\n",
            "Correct Prediction :  83\n",
            "Accuracy           :  88.3 %\n",
            "*****************************\n"
          ]
        }
      ]
    }
  ],
  "metadata": {
    "colab": {
      "provenance": [],
      "include_colab_link": true
    },
    "kernelspec": {
      "display_name": "Python 3 (ipykernel)",
      "language": "python",
      "name": "python3"
    },
    "language_info": {
      "codemirror_mode": {
        "name": "ipython",
        "version": 3
      },
      "file_extension": ".py",
      "mimetype": "text/x-python",
      "name": "python",
      "nbconvert_exporter": "python",
      "pygments_lexer": "ipython3",
      "version": "3.9.13"
    }
  },
  "nbformat": 4,
  "nbformat_minor": 0
}